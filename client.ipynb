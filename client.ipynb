{
 "cells": [
  {
   "cell_type": "code",
   "execution_count": 7,
   "metadata": {},
   "outputs": [
    {
     "name": "stdout",
     "output_type": "stream",
     "text": [
      "{'result': '5'}\n",
      "{'result': '5'}\n",
      "{'result': '5'}\n",
      "{'result': '2'}\n",
      "{'result': '2'}\n",
      "{'result': '2'}\n"
     ]
    }
   ],
   "source": [
    "import requests\n",
    "import json\n",
    "from PIL import Image\n",
    "import io\n",
    "\n",
    "server_url = \"http://localhost:8010/prepare_data\"\n",
    "\n",
    "for file_path in [\n",
    "    \"fake_images_for_inference/5.png\",\n",
    "    \"fake_images_for_inference/2.JPG\",\n",
    "]:\n",
    "    for model_name in [\"model_mnist\", \"model_mnist_quantized\", \"model_mnist_optimized\"]:\n",
    "        with open(file_path, \"rb\") as file:\n",
    "            response = requests.post(\n",
    "                server_url,\n",
    "                files={\"file\": file},\n",
    "                params={\"model_version\": 1, \"model_name\": model_name},\n",
    "            )  # data=json.dumps(data)\n",
    "            response = response.json()\n",
    "            print(response)"
   ]
  },
  {
   "cell_type": "code",
   "execution_count": 8,
   "metadata": {},
   "outputs": [
    {
     "name": "stdout",
     "output_type": "stream",
     "text": [
      "{'model_name': 'model_mnist', 'model_version': '1', 'outputs': [{'name': 'output', 'datatype': 'FP32', 'shape': [1, 10], 'data': [-5.596029758453369, -4.16012716293335, -1.4251378774642944, 8.208765029907227, -8.26167106628418, 11.113454818725586, -7.524661540985107, -0.1638394296169281, -4.490118980407715, -4.600305557250977]}]}\n",
      "[-5.596029758453369, -4.16012716293335, -1.4251378774642944, 8.208765029907227, -8.26167106628418, 11.113454818725586, -7.524661540985107, -0.1638394296169281, -4.490118980407715, -4.600305557250977]\n"
     ]
    }
   ],
   "source": [
    "# Фейковый запрос\n",
    "import requests\n",
    "import json\n",
    "\n",
    "triton_url = \"http://localhost:8000/v2/models/model_mnist/versions/1/infer\"\n",
    "data = {\n",
    "    \"inputs\": [\n",
    "        {\"name\": \"input\", \"shape\": [1, 784], \"datatype\": \"FP32\", \"data\": [[1] * 784]}\n",
    "    ]\n",
    "}\n",
    "\n",
    "response = requests.post(triton_url, data=json.dumps(data))\n",
    "response = response.json()\n",
    "print(response)\n",
    "print(response[\"outputs\"][0][\"data\"])"
   ]
  }
 ],
 "metadata": {
  "kernelspec": {
   "display_name": "venv",
   "language": "python",
   "name": "python3"
  },
  "language_info": {
   "codemirror_mode": {
    "name": "ipython",
    "version": 3
   },
   "file_extension": ".py",
   "mimetype": "text/x-python",
   "name": "python",
   "nbconvert_exporter": "python",
   "pygments_lexer": "ipython3",
   "version": "3.11.7"
  }
 },
 "nbformat": 4,
 "nbformat_minor": 2
}
